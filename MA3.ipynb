{
 "cells": [
  {
   "cell_type": "markdown",
   "id": "9950da37-1913-49b9-ace4-9dac33bc2a8a",
   "metadata": {},
   "source": [
    "***Group 21***\n",
    "- Jiaming Chang\n",
    "- Qianluo Zhu"
   ]
  },
  {
   "cell_type": "code",
   "execution_count": 2,
   "id": "954f9e7b-9c0a-4b46-b02c-fc1b1b6adf65",
   "metadata": {},
   "outputs": [
    {
     "name": "stdout",
     "output_type": "stream",
     "text": [
      "packages imported\n"
     ]
    }
   ],
   "source": [
    "#import packages\n",
    "import numpy as np\n",
    "import matplotlib.pyplot as plt\n",
    "import pandas as pd\n",
    "import statsmodels.api as sm\n",
    "from scipy.stats import poisson\n",
    "from scipy.stats import norm\n",
    "%matplotlib inline\n",
    "\n",
    "print(\"packages imported\")"
   ]
  },
  {
   "cell_type": "markdown",
   "id": "c7184371-62c6-4f50-a016-7809b13942ff",
   "metadata": {},
   "source": [
    "## **Problem Statement**:  "
   ]
  },
  {
   "cell_type": "markdown",
   "id": "d49de2c8-582a-40ef-a4f0-e985dd76619a",
   "metadata": {},
   "source": [
    "Develop a model of the charging cost, when we have information about battery capacity, energy consumed, charging duration, charging rate, and distance driven"
   ]
  },
  {
   "cell_type": "markdown",
   "id": "d58ba288-3a97-4403-8a8a-4077b7f228c0",
   "metadata": {},
   "source": [
    "## **Variables and parameters**:  \n"
   ]
  },
  {
   "cell_type": "markdown",
   "id": "d683f617-8ab8-4544-9fbf-e92ee1d9aa03",
   "metadata": {},
   "source": [
    "| Description | Symbol | Dimensions | Type |\n",
    "| :---: | :---: | :---: | :---: |\n",
    "| regression coefficent for intercept | $\\beta_0$ | - | parameter |\n",
    "| Battery Capacity | $X_1$ | - | variable |\n",
    "| regression coefficient for Battery Capacity| $\\beta_1$ | -| parameter |\n",
    "| Energy Consumed | $X_2$ | -| variable |\n",
    "| regression coefficient for Energy Consumed | $\\beta_2$ | - | parameter |\n",
    "| Charging Duration | $X_3$ | - |  variable |\n",
    "| regression coefficient for Charging Duration | $\\beta_3$ | -| parameter |\n",
    "| Charging rate | $X_4$ | - |  variable |\n",
    "| regression coefficient for Charging rate | $\\beta_4$ | - | parameter |\n",
    "| distance driven | $X_5$ | - | variable |\n",
    "| regression coefficient for distance driven | $\\beta_5$ | - | parameter |\n",
    "| Charging cost | $Y$ | - | variable |\n",
    "| error | $\\epsilon$ | - | variable |\n"
   ]
  },
  {
   "cell_type": "markdown",
   "id": "928d5070-95c7-42ea-850a-0a6c0f4b0e4c",
   "metadata": {},
   "source": [
    "## **Assumptions and Constraints:**  \n"
   ]
  },
  {
   "cell_type": "markdown",
   "id": "77de0334-bb12-4333-9876-1ffcca2f73ab",
   "metadata": {},
   "source": [
    "- the model follows the linear model $Y = \\beta_0 + \\beta_1 X_1 + \\beta_2 X_2 + \\beta_3 X_3 + \\beta_4 X_4 + \\beta_5 X_5 + \\varepsilon$\n",
    "- the average value of the error is 0: i.e., $\\mathbb{E}(\\epsilon_i) = 0$ for all $i$\n",
    "- the variance of the error is constant: i.e., $\\textrm{Var}(\\epsilon_i) = \\sigma^2$ for all $i$.\n",
    "- the error $\\vec{\\epsilon}$ is a random sample from the normal distribution of zero mean and variance $\\sigma^2$.\n",
    "- the error is independent for each $\\epsilon_i$ for all $i$\n",
    "- owners would charge their batteries to full.\n",
    "- the data is measured accurately"
   ]
  },
  {
   "cell_type": "markdown",
   "id": "195affd8-6e76-4f64-b03e-8b363eb12b09",
   "metadata": {},
   "source": [
    "## **Build Solutions:**  "
   ]
  },
  {
   "cell_type": "code",
   "execution_count": 6,
   "id": "24a77232-afd5-433d-b862-0383d11a8096",
   "metadata": {},
   "outputs": [
    {
     "data": {
      "text/html": [
       "<div>\n",
       "<style scoped>\n",
       "    .dataframe tbody tr th:only-of-type {\n",
       "        vertical-align: middle;\n",
       "    }\n",
       "\n",
       "    .dataframe tbody tr th {\n",
       "        vertical-align: top;\n",
       "    }\n",
       "\n",
       "    .dataframe thead th {\n",
       "        text-align: right;\n",
       "    }\n",
       "</style>\n",
       "<table border=\"1\" class=\"dataframe\">\n",
       "  <thead>\n",
       "    <tr style=\"text-align: right;\">\n",
       "      <th></th>\n",
       "      <th>Battery_Capacity</th>\n",
       "      <th>Energy_Consumed</th>\n",
       "      <th>Charging_Duration</th>\n",
       "      <th>Charging_Rate</th>\n",
       "      <th>Distance_Driven</th>\n",
       "      <th>Charging_cost</th>\n",
       "    </tr>\n",
       "  </thead>\n",
       "  <tbody>\n",
       "    <tr>\n",
       "      <th>0</th>\n",
       "      <td>50.0</td>\n",
       "      <td>19.402524</td>\n",
       "      <td>2.052874</td>\n",
       "      <td>5.010838</td>\n",
       "      <td>111.922903</td>\n",
       "      <td>11.16</td>\n",
       "    </tr>\n",
       "    <tr>\n",
       "      <th>1</th>\n",
       "      <td>75.0</td>\n",
       "      <td>50.530531</td>\n",
       "      <td>1.028886</td>\n",
       "      <td>34.636271</td>\n",
       "      <td>62.529153</td>\n",
       "      <td>21.22</td>\n",
       "    </tr>\n",
       "    <tr>\n",
       "      <th>2</th>\n",
       "      <td>75.0</td>\n",
       "      <td>4.288320</td>\n",
       "      <td>2.459856</td>\n",
       "      <td>38.841667</td>\n",
       "      <td>107.396907</td>\n",
       "      <td>17.57</td>\n",
       "    </tr>\n",
       "    <tr>\n",
       "      <th>3</th>\n",
       "      <td>100.0</td>\n",
       "      <td>77.295780</td>\n",
       "      <td>0.684295</td>\n",
       "      <td>5.971665</td>\n",
       "      <td>86.456851</td>\n",
       "      <td>13.18</td>\n",
       "    </tr>\n",
       "    <tr>\n",
       "      <th>4</th>\n",
       "      <td>50.0</td>\n",
       "      <td>8.112448</td>\n",
       "      <td>1.652458</td>\n",
       "      <td>37.291554</td>\n",
       "      <td>286.342818</td>\n",
       "      <td>17.63</td>\n",
       "    </tr>\n",
       "  </tbody>\n",
       "</table>\n",
       "</div>"
      ],
      "text/plain": [
       "   Battery_Capacity  Energy_Consumed  Charging_Duration  Charging_Rate  \\\n",
       "0              50.0        19.402524           2.052874       5.010838   \n",
       "1              75.0        50.530531           1.028886      34.636271   \n",
       "2              75.0         4.288320           2.459856      38.841667   \n",
       "3             100.0        77.295780           0.684295       5.971665   \n",
       "4              50.0         8.112448           1.652458      37.291554   \n",
       "\n",
       "   Distance_Driven  Charging_cost  \n",
       "0       111.922903          11.16  \n",
       "1        62.529153          21.22  \n",
       "2       107.396907          17.57  \n",
       "3        86.456851          13.18  \n",
       "4       286.342818          17.63  "
      ]
     },
     "execution_count": 6,
     "metadata": {},
     "output_type": "execute_result"
    }
   ],
   "source": [
    "# import data\n",
    "ev = pd.read_csv(\"ev_charging_NY.csv\")\n",
    "ev = pd.DataFrame(ev)\n",
    "ev.head()\n",
    "\n",
    "# modifications\n",
    "# Taking the square root of the Distance Driven values;\n",
    "# Creating a new variable called Total Energy = Charging Duration * Energy Consumed\n",
    "# Taking the natural log of the Charging Rate."
   ]
  },
  {
   "cell_type": "markdown",
   "id": "9fb5d692-5003-435e-ac31-3d7279d3afff",
   "metadata": {},
   "source": [
    "## **Analyze and Assess:**"
   ]
  },
  {
   "cell_type": "markdown",
   "id": "ea0e9512-3773-4849-913a-be5ef000ab51",
   "metadata": {},
   "source": [
    "## **Conclusion and Report**\n"
   ]
  },
  {
   "cell_type": "code",
   "execution_count": null,
   "id": "e2390497-f48c-4141-85c9-077da5036819",
   "metadata": {},
   "outputs": [],
   "source": []
  }
 ],
 "metadata": {
  "kernelspec": {
   "display_name": "Python 3 (ipykernel)",
   "language": "python",
   "name": "python3"
  },
  "language_info": {
   "codemirror_mode": {
    "name": "ipython",
    "version": 3
   },
   "file_extension": ".py",
   "mimetype": "text/x-python",
   "name": "python",
   "nbconvert_exporter": "python",
   "pygments_lexer": "ipython3",
   "version": "3.11.9"
  }
 },
 "nbformat": 4,
 "nbformat_minor": 5
}
