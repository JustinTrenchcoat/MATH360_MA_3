{
 "cells": [
  {
   "cell_type": "markdown",
   "id": "9950da37-1913-49b9-ace4-9dac33bc2a8a",
   "metadata": {},
   "source": [
    "***Group 21***\n",
    "- Jiaming Chang\n",
    "- Qianluo Zhu"
   ]
  },
  {
   "cell_type": "code",
   "execution_count": 1,
   "id": "954f9e7b-9c0a-4b46-b02c-fc1b1b6adf65",
   "metadata": {},
   "outputs": [
    {
     "name": "stdout",
     "output_type": "stream",
     "text": [
      "packages imported\n"
     ]
    }
   ],
   "source": [
    "#import packages\n",
    "import numpy as np\n",
    "import matplotlib.pyplot as plt\n",
    "import pandas as pd\n",
    "import statsmodels.api as sm\n",
    "from scipy.stats import poisson\n",
    "from scipy.stats import norm\n",
    "%matplotlib inline\n",
    "\n",
    "print(\"packages imported\")"
   ]
  },
  {
   "cell_type": "markdown",
   "id": "c7184371-62c6-4f50-a016-7809b13942ff",
   "metadata": {},
   "source": [
    "## **Problem Statement**:  "
   ]
  },
  {
   "cell_type": "markdown",
   "id": "d49de2c8-582a-40ef-a4f0-e985dd76619a",
   "metadata": {},
   "source": [
    "Develop a model of the charging cost, when we have information about battery capacity, energy consumed, charging duration, charging rate, and distance driven"
   ]
  },
  {
   "cell_type": "markdown",
   "id": "d58ba288-3a97-4403-8a8a-4077b7f228c0",
   "metadata": {},
   "source": [
    "## **Variables and parameters**:  \n"
   ]
  },
  {
   "cell_type": "markdown",
   "id": "928d5070-95c7-42ea-850a-0a6c0f4b0e4c",
   "metadata": {},
   "source": [
    "## **Assumptions and Constraints:**  \n"
   ]
  },
  {
   "cell_type": "markdown",
   "id": "195affd8-6e76-4f64-b03e-8b363eb12b09",
   "metadata": {},
   "source": [
    "## **Build Solutions:**  "
   ]
  },
  {
   "cell_type": "markdown",
   "id": "9fb5d692-5003-435e-ac31-3d7279d3afff",
   "metadata": {},
   "source": [
    "## **Analyze and Assess:**"
   ]
  },
  {
   "cell_type": "markdown",
   "id": "ea0e9512-3773-4849-913a-be5ef000ab51",
   "metadata": {},
   "source": [
    "## **Conclusion and Report**\n"
   ]
  },
  {
   "cell_type": "code",
   "execution_count": null,
   "id": "e2390497-f48c-4141-85c9-077da5036819",
   "metadata": {},
   "outputs": [],
   "source": []
  }
 ],
 "metadata": {
  "kernelspec": {
   "display_name": "Python 3 (ipykernel)",
   "language": "python",
   "name": "python3"
  },
  "language_info": {
   "codemirror_mode": {
    "name": "ipython",
    "version": 3
   },
   "file_extension": ".py",
   "mimetype": "text/x-python",
   "name": "python",
   "nbconvert_exporter": "python",
   "pygments_lexer": "ipython3",
   "version": "3.11.9"
  }
 },
 "nbformat": 4,
 "nbformat_minor": 5
}
